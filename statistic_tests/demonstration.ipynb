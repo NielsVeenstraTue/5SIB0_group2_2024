{
 "cells": [
  {
   "cell_type": "markdown",
   "metadata": {},
   "source": [
    "Import necessary files"
   ]
  },
  {
   "cell_type": "code",
   "execution_count": null,
   "metadata": {},
   "outputs": [],
   "source": [
    "import os\n",
    "import sys\n",
    "import pandas as pd\n",
    "import numpy as np\n",
    "from statsmodels.stats.contingency_tables import mcnemar\n",
    "from scipy import stats\n",
    "import matplotlib.pyplot as plt\n",
    "from mpl_toolkits.mplot3d import Axes3D\n",
    "\n",
    "if (os.path.abspath(os.path.join(os.getcwd(), os.pardir)) + '/EDF') not in sys.path:\n",
    "    sys.path.insert(0, os.path.abspath(os.path.join(os.getcwd(), os.pardir)) + '/EDF')\n",
    "if (os.path.abspath(os.path.join(os.getcwd(), os.pardir)) + '/ECF') not in sys.path:\n",
    "    sys.path.insert(0, os.path.abspath(os.path.join(os.getcwd(), os.pardir)) + '/ECF')\n",
    "if (os.path.abspath(os.path.join(os.getcwd(), os.pardir)) + '/EDDF') not in sys.path:\n",
    "    sys.path.insert(0, os.path.abspath(os.path.join(os.getcwd(), os.pardir)) + '/EDDF')\n",
    "if (os.path.abspath(os.path.join(os.getcwd(), os.pardir)) + '/XML') not in sys.path:\n",
    "    sys.path.insert(0, os.path.abspath(os.path.join(os.getcwd(), os.pardir)) + '/XML')\n",
    "\n",
    "import EDFscheduler\n",
    "import EDDFscheduler\n",
    "import ECFscheduler\n",
    "import schedule_visualizer\n",
    "from XML_functions import save_xml, save_dep_xml\n",
    "from data_formats import Task, Dependency\n"
   ]
  },
  {
   "cell_type": "markdown",
   "metadata": {},
   "source": [
    "Create demo XMLs similar to the original paper demonstration"
   ]
  },
  {
   "cell_type": "code",
   "execution_count": null,
   "metadata": {},
   "outputs": [],
   "source": [
    "# Same example as of the paper to compare EDDF and ECF\n",
    "WCETarray = [8, 9, 8, 7, 7, 10]\n",
    "resources = [0, 0, 0, 1, 1, 1]\n",
    "deadlines = [45]*6\n",
    "\n",
    "tasks = []\n",
    "for i in range(len(WCETarray)):\n",
    "    tasks.append(Task(i, WCETarray[i], resources[i], deadlines[i]))\n",
    "save_xml(tasks, 'demo_taskset.xml')\n",
    "\n",
    "dependencies = [[0, 2], [1, 3], [1, 4], [2, 5], [3, 5], [4, 5]]\n",
    "deps = []\n",
    "for i in range(len(dependencies)):\n",
    "    deps.append(Dependency(dependencies[i][0], dependencies[i][1]))\n",
    "save_dep_xml(deps, 'demo_dependencies.xml')\n"
   ]
  },
  {
   "cell_type": "markdown",
   "metadata": {},
   "source": [
    "Print contents of XMLs"
   ]
  },
  {
   "cell_type": "code",
   "execution_count": null,
   "metadata": {},
   "outputs": [],
   "source": [
    "import xml.dom.minidom\n",
    "\n",
    "dom = xml.dom.minidom.parse('demo_taskset.xml') # or xml.dom.minidom.parseString(xml_string)\n",
    "pretty_xml_as_string = dom.toprettyxml()\n",
    "print(\"Taskset XML format:\\n\", pretty_xml_as_string)\n",
    "\n",
    "dom = xml.dom.minidom.parse('demo_dependencies.xml') # or xml.dom.minidom.parseString(xml_string)\n",
    "pretty_xml_as_string = dom.toprettyxml()\n",
    "print(\"Dependencies XML format:\\n\", pretty_xml_as_string)"
   ]
  },
  {
   "cell_type": "markdown",
   "metadata": {},
   "source": [
    "Visualization of the taskset"
   ]
  },
  {
   "attachments": {
    "image.png": {
     "image/png": "[encoded data removed]"
    }
   },
   "cell_type": "markdown",
   "metadata": {},
   "source": [
    "![image.png](attachment:image.png)"
   ]
  },
  {
   "cell_type": "markdown",
   "metadata": {},
   "source": [
    "Schedule taskset using EDF"
   ]
  },
  {
   "cell_type": "code",
   "execution_count": null,
   "metadata": {},
   "outputs": [],
   "source": [
    "# EDF scheduler\n",
    "schedule, makespan, schedulerTime = EDFscheduler.EDF('demo_taskset.xml', 'demo_dependencies.xml')\n",
    "print(\"EDF Makespan: \", makespan)\n",
    "print(\"EDF scheduling time: \", schedulerTime)\n",
    "print(schedule)\n",
    "schedule_visualizer.vizualize(schedule)"
   ]
  },
  {
   "cell_type": "markdown",
   "metadata": {},
   "source": [
    "Schedule taskset using ECF"
   ]
  },
  {
   "cell_type": "code",
   "execution_count": null,
   "metadata": {},
   "outputs": [],
   "source": [
    "# ECF scheduler\n",
    "schedule, makespan, CALAPCalculationTime, schedulerTime = ECFscheduler.ECF('demo_taskset.xml', 'demo_dependencies.xml')\n",
    "print(\"ECF Makespan: \", makespan)\n",
    "print(\"CALAP calculating time: \", CALAPCalculationTime)\n",
    "print(\"ECF scheduling time: \", schedulerTime)\n",
    "print(schedule)\n",
    "schedule_visualizer.vizualize(schedule)"
   ]
  },
  {
   "cell_type": "markdown",
   "metadata": {},
   "source": [
    "Schedule taskset using EDDF"
   ]
  },
  {
   "cell_type": "code",
   "execution_count": null,
   "metadata": {},
   "outputs": [],
   "source": [
    "# EDDF scheduler\n",
    "schedule, makespan, dueDatesCalculationTime, schedulerTime = EDDFscheduler.EDDF('demo_taskset.xml', 'demo_dependencies.xml')\n",
    "print(\"EDDF Makespan: \", makespan)\n",
    "print(\"Due-Dates calculating time: \", dueDatesCalculationTime)\n",
    "print(\"EDDF scheduling time: \", schedulerTime)\n",
    "print(schedule)\n",
    "schedule_visualizer.vizualize(schedule)"
   ]
  }
 ],
 "metadata": {
  "kernelspec": {
   "display_name": ".venv",
   "language": "python",
   "name": "python3"
  },
  "language_info": {
   "codemirror_mode": {
    "name": "ipython",
    "version": 3
   },
   "file_extension": ".py",
   "mimetype": "text/x-python",
   "name": "python",
   "nbconvert_exporter": "python",
   "pygments_lexer": "ipython3",
   "version": "3.12.2"
  }
 },
 "nbformat": 4,
 "nbformat_minor": 2
}
